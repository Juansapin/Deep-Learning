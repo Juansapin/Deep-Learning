{
 "cells": [
  {
   "cell_type": "markdown",
   "id": "e632af0c",
   "metadata": {},
   "source": [
    "## Caso de Estudio 01 \n",
    "## Predicción de éxito "
   ]
  },
  {
   "cell_type": "markdown",
   "id": "691ac887",
   "metadata": {},
   "source": [
    "0.1  )Comprension del Problema y An ´ alisis de Datos (EDA)"
   ]
  },
  {
   "cell_type": "markdown",
   "id": "6ffa34cc",
   "metadata": {},
   "source": [
    "a) Objetivo de Negocio: ¿Por que es valioso para el banco utilizar un modelo predictivo en lugar de contactar a todos los ´\n",
    "clientes? Explique en terminos de ROI (Retorno de Inversion) y experiencia del cliente.\n",
    "\n",
    "R ) El uso de un modelo predictivo es valioso porque optimiza tanto el retorno de inversión (ROI) como la experiencia del cliente. Desde el punto de vista financiero, permite al banco enfocar sus recursos de telemercadeo en clientes con alta probabilidad de conversión, reduciendo costos de llamadas innecesarias y aumentando la tasa de éxito por contacto. En términos de ROI, esto significa invertir menos en esfuerzos poco productivos y maximizar los ingresos obtenidos por cada llamada realizada.\n",
    "\n",
    "Desde la perspectiva del cliente, el modelo disminuye la fatiga generada por múltiples contactos irrelevantes. Los clientes reciben menos llamadas no deseadas y, cuando son contactados, es más probable que la oferta sea de su interés. Esto fortalece la relación con la institución, mejora la percepción de la marca y reduce el riesgo de rechazo o descontento.\n",
    "\n"
   ]
  },
  {
   "cell_type": "markdown",
   "id": "334696d0",
   "metadata": {},
   "source": [
    "b ) Desbalance de Clases: El analisis exploratorio revela un fuerte desbalance en la variable objetivo ( ´ y). Cuantifique esta proporcion. ¿Que implicaciones tiene este desbalance para el entrenamiento y la evaluacion del modelo?\n",
    "\n",
    "R) Desbalance de clases. La variable objetivo presenta un desbalance marcado: no 88.30% (39 922) vs yes 11.70% (5 289). Esto implica que, si no se corrige, el entrenamiento se sesga hacia la clase mayoritaria: el modelo minimiza la pérdida prediciendo “no” la mayor parte del tiempo, degradando el recall de “yes”. En evaluación, la accuracy resulta engañosa (un clasificador trivial que siempre dice “no” obtiene ≈88.3%)"
   ]
  },
  {
   "cell_type": "markdown",
   "id": "c9813271",
   "metadata": {},
   "source": [
    "c) Metrica de Exactitud ( Accuracy): ¿Por que la exactitud no es una metrica de evaluacion adecuada para este problema? ´\n",
    "Proponga un escenario hipotetico donde un modelo inutil podrıa alcanzar una alta exactitud.\n",
    "\n",
    "R ) Métrica de Exactitud. La accuracy no es adecuada para este problema debido al fuerte desbalance de clases (88% no vs 12% yes). Un modelo que prediga siempre “no” alcanzaría una accuracy cercana al 88%, pero en la práctica no detectaría a ningún cliente interesado en suscribir un depósito. Este escenario muestra que un modelo con alta exactitud puede ser inútil para los objetivos de negocio, ya que lo importante es identificar correctamente la clase minoritaria (“sí”). Por este motivo, métricas como Recall, Precision, F1-score y AUC resultan más informativas que la accuracy en este contexto."
   ]
  },
  {
   "cell_type": "markdown",
   "id": "1bfc97b2",
   "metadata": {},
   "source": [
    "d) Visualizacion de Datos: ´ A partir de los graficos de tasa de conversi ´ on por ´ job y month, ¿que dos perfiles de cliente o ´\n",
    "momentos del ano parecen ser los m ˜ as prometedores para la campa ´ na de marketing? \n",
    "\n",
    "R )  A nivel de tasa podemos ver que los 2 perfiles de cliente que parecen ser los mas prometedores son, por el lado de trabajo : 1. student con el 28.68%  y 2. Retired con el 22.79% . Por el lado de mes serian: 1. marzo con 51.99% y 2. Diciembre con el 46.73% . Pero, Estas conclusiones se basan en tasas; para priorización comercial conviene cruzarlas con volumen de contactos por segmento/mes (tasa × N) para estimar conversión esperada y ROI. "
   ]
  }
 ],
 "metadata": {
  "kernelspec": {
   "display_name": "Python 3",
   "language": "python",
   "name": "python3"
  },
  "language_info": {
   "codemirror_mode": {
    "name": "ipython",
    "version": 3
   },
   "file_extension": ".py",
   "mimetype": "text/x-python",
   "name": "python",
   "nbconvert_exporter": "python",
   "pygments_lexer": "ipython3",
   "version": "3.13.1"
  }
 },
 "nbformat": 4,
 "nbformat_minor": 5
}
